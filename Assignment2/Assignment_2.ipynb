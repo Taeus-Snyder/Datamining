{
  "cells": [
    {
      "cell_type": "markdown",
      "metadata": {
        "id": "OmX32361EJZd"
      },
      "source": [
        "# 1. Importing Modules"
      ]
    },
    {
      "cell_type": "code",
      "execution_count": 1,
      "metadata": {
        "id": "2zx8lqPNC6b2"
      },
      "outputs": [
        {
          "name": "stderr",
          "output_type": "stream",
          "text": [
            "C:\\Users\\aarda\\AppData\\Local\\Temp\\ipykernel_6592\\1217830152.py:1: DeprecationWarning: \n",
            "Pyarrow will become a required dependency of pandas in the next major release of pandas (pandas 3.0),\n",
            "(to allow more performant data types, such as the Arrow string type, and better interoperability with other libraries)\n",
            "but was not found to be installed on your system.\n",
            "If this would cause problems for you,\n",
            "please provide us feedback at https://github.com/pandas-dev/pandas/issues/54466\n",
            "        \n",
            "  import pandas as pd\n"
          ]
        }
      ],
      "source": [
        "import pandas as pd\n",
        "import matplotlib.pyplot as plt\n",
        "from sklearn.preprocessing import MinMaxScaler, StandardScaler\n",
        "from sklearn import tree\n",
        "from sklearn.metrics import accuracy_score"
      ]
    },
    {
      "cell_type": "markdown",
      "metadata": {
        "id": "X0ZB5PzMEL_S"
      },
      "source": [
        "# 2. Importing Data"
      ]
    },
    {
      "cell_type": "code",
      "execution_count": 2,
      "metadata": {
        "id": "BVqvsNPVIOdQ"
      },
      "outputs": [],
      "source": [
        "test = pd.read_csv(\"test.csv\")"
      ]
    },
    {
      "cell_type": "code",
      "execution_count": 3,
      "metadata": {
        "colab": {
          "base_uri": "https://localhost:8080/",
          "height": 273
        },
        "id": "7a19Qd2qDmsk",
        "outputId": "df164740-af05-4c50-ae01-42da78138587"
      },
      "outputs": [
        {
          "data": {
            "text/html": [
              "<div>\n",
              "<style scoped>\n",
              "    .dataframe tbody tr th:only-of-type {\n",
              "        vertical-align: middle;\n",
              "    }\n",
              "\n",
              "    .dataframe tbody tr th {\n",
              "        vertical-align: top;\n",
              "    }\n",
              "\n",
              "    .dataframe thead th {\n",
              "        text-align: right;\n",
              "    }\n",
              "</style>\n",
              "<table border=\"1\" class=\"dataframe\">\n",
              "  <thead>\n",
              "    <tr style=\"text-align: right;\">\n",
              "      <th></th>\n",
              "      <th>id</th>\n",
              "      <th>diagnosis</th>\n",
              "      <th>radius_mean</th>\n",
              "      <th>texture_mean</th>\n",
              "      <th>perimeter_mean</th>\n",
              "      <th>area_mean</th>\n",
              "      <th>smoothness_mean</th>\n",
              "      <th>compactness_mean</th>\n",
              "      <th>concavity_mean</th>\n",
              "      <th>concave points_mean</th>\n",
              "      <th>...</th>\n",
              "      <th>texture_worst</th>\n",
              "      <th>perimeter_worst</th>\n",
              "      <th>area_worst</th>\n",
              "      <th>smoothness_worst</th>\n",
              "      <th>compactness_worst</th>\n",
              "      <th>concavity_worst</th>\n",
              "      <th>concave points_worst</th>\n",
              "      <th>symmetry_worst</th>\n",
              "      <th>fractal_dimension_worst</th>\n",
              "      <th>Unnamed: 32</th>\n",
              "    </tr>\n",
              "  </thead>\n",
              "  <tbody>\n",
              "    <tr>\n",
              "      <th>0</th>\n",
              "      <td>842302</td>\n",
              "      <td>M</td>\n",
              "      <td>17.99</td>\n",
              "      <td>10.38</td>\n",
              "      <td>122.80</td>\n",
              "      <td>1001.0</td>\n",
              "      <td>0.11840</td>\n",
              "      <td>0.27760</td>\n",
              "      <td>0.3001</td>\n",
              "      <td>0.14710</td>\n",
              "      <td>...</td>\n",
              "      <td>17.33</td>\n",
              "      <td>184.60</td>\n",
              "      <td>2019.0</td>\n",
              "      <td>0.1622</td>\n",
              "      <td>0.6656</td>\n",
              "      <td>0.7119</td>\n",
              "      <td>0.2654</td>\n",
              "      <td>0.4601</td>\n",
              "      <td>0.11890</td>\n",
              "      <td>NaN</td>\n",
              "    </tr>\n",
              "    <tr>\n",
              "      <th>1</th>\n",
              "      <td>842517</td>\n",
              "      <td>M</td>\n",
              "      <td>20.57</td>\n",
              "      <td>17.77</td>\n",
              "      <td>132.90</td>\n",
              "      <td>1326.0</td>\n",
              "      <td>0.08474</td>\n",
              "      <td>0.07864</td>\n",
              "      <td>0.0869</td>\n",
              "      <td>0.07017</td>\n",
              "      <td>...</td>\n",
              "      <td>23.41</td>\n",
              "      <td>158.80</td>\n",
              "      <td>1956.0</td>\n",
              "      <td>0.1238</td>\n",
              "      <td>0.1866</td>\n",
              "      <td>0.2416</td>\n",
              "      <td>0.1860</td>\n",
              "      <td>0.2750</td>\n",
              "      <td>0.08902</td>\n",
              "      <td>NaN</td>\n",
              "    </tr>\n",
              "    <tr>\n",
              "      <th>2</th>\n",
              "      <td>84300903</td>\n",
              "      <td>M</td>\n",
              "      <td>19.69</td>\n",
              "      <td>21.25</td>\n",
              "      <td>130.00</td>\n",
              "      <td>1203.0</td>\n",
              "      <td>0.10960</td>\n",
              "      <td>0.15990</td>\n",
              "      <td>0.1974</td>\n",
              "      <td>0.12790</td>\n",
              "      <td>...</td>\n",
              "      <td>25.53</td>\n",
              "      <td>152.50</td>\n",
              "      <td>1709.0</td>\n",
              "      <td>0.1444</td>\n",
              "      <td>0.4245</td>\n",
              "      <td>0.4504</td>\n",
              "      <td>0.2430</td>\n",
              "      <td>0.3613</td>\n",
              "      <td>0.08758</td>\n",
              "      <td>NaN</td>\n",
              "    </tr>\n",
              "    <tr>\n",
              "      <th>3</th>\n",
              "      <td>84348301</td>\n",
              "      <td>M</td>\n",
              "      <td>11.42</td>\n",
              "      <td>20.38</td>\n",
              "      <td>77.58</td>\n",
              "      <td>386.1</td>\n",
              "      <td>0.14250</td>\n",
              "      <td>0.28390</td>\n",
              "      <td>0.2414</td>\n",
              "      <td>0.10520</td>\n",
              "      <td>...</td>\n",
              "      <td>26.50</td>\n",
              "      <td>98.87</td>\n",
              "      <td>567.7</td>\n",
              "      <td>0.2098</td>\n",
              "      <td>0.8663</td>\n",
              "      <td>0.6869</td>\n",
              "      <td>0.2575</td>\n",
              "      <td>0.6638</td>\n",
              "      <td>0.17300</td>\n",
              "      <td>NaN</td>\n",
              "    </tr>\n",
              "    <tr>\n",
              "      <th>4</th>\n",
              "      <td>84358402</td>\n",
              "      <td>M</td>\n",
              "      <td>20.29</td>\n",
              "      <td>14.34</td>\n",
              "      <td>135.10</td>\n",
              "      <td>1297.0</td>\n",
              "      <td>0.10030</td>\n",
              "      <td>0.13280</td>\n",
              "      <td>0.1980</td>\n",
              "      <td>0.10430</td>\n",
              "      <td>...</td>\n",
              "      <td>16.67</td>\n",
              "      <td>152.20</td>\n",
              "      <td>1575.0</td>\n",
              "      <td>0.1374</td>\n",
              "      <td>0.2050</td>\n",
              "      <td>0.4000</td>\n",
              "      <td>0.1625</td>\n",
              "      <td>0.2364</td>\n",
              "      <td>0.07678</td>\n",
              "      <td>NaN</td>\n",
              "    </tr>\n",
              "  </tbody>\n",
              "</table>\n",
              "<p>5 rows × 33 columns</p>\n",
              "</div>"
            ],
            "text/plain": [
              "         id diagnosis  radius_mean  texture_mean  perimeter_mean  area_mean  \\\n",
              "0    842302         M        17.99         10.38          122.80     1001.0   \n",
              "1    842517         M        20.57         17.77          132.90     1326.0   \n",
              "2  84300903         M        19.69         21.25          130.00     1203.0   \n",
              "3  84348301         M        11.42         20.38           77.58      386.1   \n",
              "4  84358402         M        20.29         14.34          135.10     1297.0   \n",
              "\n",
              "   smoothness_mean  compactness_mean  concavity_mean  concave points_mean  \\\n",
              "0          0.11840           0.27760          0.3001              0.14710   \n",
              "1          0.08474           0.07864          0.0869              0.07017   \n",
              "2          0.10960           0.15990          0.1974              0.12790   \n",
              "3          0.14250           0.28390          0.2414              0.10520   \n",
              "4          0.10030           0.13280          0.1980              0.10430   \n",
              "\n",
              "   ...  texture_worst  perimeter_worst  area_worst  smoothness_worst  \\\n",
              "0  ...          17.33           184.60      2019.0            0.1622   \n",
              "1  ...          23.41           158.80      1956.0            0.1238   \n",
              "2  ...          25.53           152.50      1709.0            0.1444   \n",
              "3  ...          26.50            98.87       567.7            0.2098   \n",
              "4  ...          16.67           152.20      1575.0            0.1374   \n",
              "\n",
              "   compactness_worst  concavity_worst  concave points_worst  symmetry_worst  \\\n",
              "0             0.6656           0.7119                0.2654          0.4601   \n",
              "1             0.1866           0.2416                0.1860          0.2750   \n",
              "2             0.4245           0.4504                0.2430          0.3613   \n",
              "3             0.8663           0.6869                0.2575          0.6638   \n",
              "4             0.2050           0.4000                0.1625          0.2364   \n",
              "\n",
              "   fractal_dimension_worst  Unnamed: 32  \n",
              "0                  0.11890          NaN  \n",
              "1                  0.08902          NaN  \n",
              "2                  0.08758          NaN  \n",
              "3                  0.17300          NaN  \n",
              "4                  0.07678          NaN  \n",
              "\n",
              "[5 rows x 33 columns]"
            ]
          },
          "execution_count": 3,
          "metadata": {},
          "output_type": "execute_result"
        }
      ],
      "source": [
        "train = pd.read_csv(\"train.csv\")\n",
        "train.head()"
      ]
    },
    {
      "cell_type": "code",
      "execution_count": 4,
      "metadata": {
        "colab": {
          "base_uri": "https://localhost:8080/"
        },
        "id": "vRzRUg0oEPfo",
        "outputId": "713ecd25-f474-4245-9129-176e80587dfd"
      },
      "outputs": [
        {
          "name": "stdout",
          "output_type": "stream",
          "text": [
            "<class 'pandas.core.frame.DataFrame'>\n",
            "RangeIndex: 449 entries, 0 to 448\n",
            "Data columns (total 33 columns):\n",
            " #   Column                   Non-Null Count  Dtype  \n",
            "---  ------                   --------------  -----  \n",
            " 0   id                       449 non-null    int64  \n",
            " 1   diagnosis                449 non-null    object \n",
            " 2   radius_mean              449 non-null    float64\n",
            " 3   texture_mean             449 non-null    float64\n",
            " 4   perimeter_mean           449 non-null    float64\n",
            " 5   area_mean                449 non-null    float64\n",
            " 6   smoothness_mean          449 non-null    float64\n",
            " 7   compactness_mean         449 non-null    float64\n",
            " 8   concavity_mean           449 non-null    float64\n",
            " 9   concave points_mean      449 non-null    float64\n",
            " 10  symmetry_mean            449 non-null    float64\n",
            " 11  fractal_dimension_mean   449 non-null    float64\n",
            " 12  radius_se                449 non-null    float64\n",
            " 13  texture_se               449 non-null    float64\n",
            " 14  perimeter_se             449 non-null    float64\n",
            " 15  area_se                  449 non-null    float64\n",
            " 16  smoothness_se            449 non-null    float64\n",
            " 17  compactness_se           449 non-null    float64\n",
            " 18  concavity_se             449 non-null    float64\n",
            " 19  concave points_se        449 non-null    float64\n",
            " 20  symmetry_se              449 non-null    float64\n",
            " 21  fractal_dimension_se     449 non-null    float64\n",
            " 22  radius_worst             449 non-null    float64\n",
            " 23  texture_worst            449 non-null    float64\n",
            " 24  perimeter_worst          449 non-null    float64\n",
            " 25  area_worst               449 non-null    float64\n",
            " 26  smoothness_worst         449 non-null    float64\n",
            " 27  compactness_worst        449 non-null    float64\n",
            " 28  concavity_worst          449 non-null    float64\n",
            " 29  concave points_worst     449 non-null    float64\n",
            " 30  symmetry_worst           449 non-null    float64\n",
            " 31  fractal_dimension_worst  449 non-null    float64\n",
            " 32  Unnamed: 32              0 non-null      float64\n",
            "dtypes: float64(31), int64(1), object(1)\n",
            "memory usage: 115.9+ KB\n"
          ]
        }
      ],
      "source": [
        "train.info()"
      ]
    },
    {
      "cell_type": "markdown",
      "metadata": {
        "id": "uAhWVDo2EVx8"
      },
      "source": [
        "# 3. Preprocessing"
      ]
    },
    {
      "cell_type": "markdown",
      "metadata": {
        "id": "AciKCdK6Es6Q"
      },
      "source": [
        "## 3.1 Trimming Unnecessary Data"
      ]
    },
    {
      "cell_type": "code",
      "execution_count": 5,
      "metadata": {
        "id": "H9XNdj7mESAV"
      },
      "outputs": [],
      "source": [
        "# Getting rid of unnecessary columns - Unnamed\n",
        "\n",
        "train = train.drop(['id'] , axis = 1)\n",
        "train = train.drop(['Unnamed: 32'] , axis = 1)\n",
        "\n",
        "test = test.drop(['id'] , axis = 1)\n",
        "test = test.drop(['Unnamed: 32'] , axis = 1)\n"
      ]
    },
    {
      "cell_type": "markdown",
      "metadata": {
        "id": "K-LXdbdKEv-I"
      },
      "source": [
        "## 3.2 Using Sklearn Preprocessing Algorithms"
      ]
    },
    {
      "cell_type": "markdown",
      "metadata": {
        "id": "UIPvAxHdJAvz"
      },
      "source": [
        "### 3.2.1 Training Data"
      ]
    },
    {
      "cell_type": "code",
      "execution_count": 6,
      "metadata": {
        "id": "D_1liPQiFOSF"
      },
      "outputs": [],
      "source": [
        "X_train = train.drop(columns=['diagnosis'])\n",
        "y_train = train['diagnosis']"
      ]
    },
    {
      "cell_type": "code",
      "execution_count": 7,
      "metadata": {
        "id": "mJCmug5zE0oh"
      },
      "outputs": [],
      "source": [
        "X_train_clean = X_train\n",
        "\n",
        "X_train_zscore = StandardScaler().fit_transform(X_train)\n",
        "\n",
        "X_train_minmax = MinMaxScaler().fit_transform(X_train)\n",
        "\n",
        "X_train_preprocessed = [X_train_clean, X_train_zscore, X_train_minmax]"
      ]
    },
    {
      "cell_type": "code",
      "execution_count": 8,
      "metadata": {
        "id": "XLZEgq1zGJFf"
      },
      "outputs": [],
      "source": [
        "y_train = y_train.map(lambda x: 1 if x == 'M' else 0)"
      ]
    },
    {
      "cell_type": "markdown",
      "metadata": {
        "id": "fuEkeOo9JDFw"
      },
      "source": [
        "### 3.2.2 Testing Data"
      ]
    },
    {
      "cell_type": "code",
      "execution_count": 9,
      "metadata": {
        "id": "h5GvYVrhI_YU"
      },
      "outputs": [],
      "source": [
        "X_test = test.drop(columns=['diagnosis'])\n",
        "y_test = test['diagnosis']"
      ]
    },
    {
      "cell_type": "code",
      "execution_count": 10,
      "metadata": {
        "id": "QuKNy-_TJJtj"
      },
      "outputs": [],
      "source": [
        "X_test_clean = X_test\n",
        "\n",
        "X_test_zscore = StandardScaler().fit_transform(X_test)\n",
        "\n",
        "X_test_minmax = MinMaxScaler().fit_transform(X_test)\n",
        "\n",
        "X_test_preprocessed = [X_test_clean, X_test_zscore, X_test_minmax]"
      ]
    },
    {
      "cell_type": "code",
      "execution_count": 11,
      "metadata": {
        "id": "4K9p5g9nKlt5"
      },
      "outputs": [],
      "source": [
        "y_test = y_test.map(lambda x: 1 if x == 'M' else 0)"
      ]
    },
    {
      "cell_type": "markdown",
      "metadata": {
        "id": "aEDmJ8PzGHYP"
      },
      "source": [
        "# 4. Creating Decision Trees"
      ]
    },
    {
      "cell_type": "markdown",
      "metadata": {
        "id": "DDKDEfVvHE4r"
      },
      "source": [
        "## 4.1 No Preprocessing"
      ]
    },
    {
      "cell_type": "code",
      "execution_count": 12,
      "metadata": {
        "id": "Xu1iYT4LNARc"
      },
      "outputs": [],
      "source": [
        "def run_variations(X_train_preprocessed, X_test_preprocessed, y_train, y_test, depth_values, splitter_values, preprocessing_labels):\n",
        "  outputs = []\n",
        "  for i in range(len(X_train_preprocessed)):\n",
        "    for d in depth_values:\n",
        "      for s in splitter_values:\n",
        "        clf = tree.DecisionTreeClassifier(max_depth=d, splitter=s)\n",
        "        clf = clf.fit(X_train_preprocessed[i], y_train)\n",
        "        y_pred = clf.predict(X_test_preprocessed[i])\n",
        "        score = accuracy_score(y_test, y_pred)\n",
        "        outputs.append({\n",
        "            'Normalization': preprocessing_labels[i],\n",
        "            'Max Depth': d,\n",
        "            'Splitter': s,\n",
        "            'Accuracy %': score\n",
        "        })\n",
        "\n",
        "  return outputs\n"
      ]
    },
    {
      "cell_type": "code",
      "execution_count": 13,
      "metadata": {
        "colab": {
          "base_uri": "https://localhost:8080/",
          "height": 613
        },
        "id": "OBIpj9hSOkbc",
        "outputId": "5bbb8e2f-4a1b-444d-f923-53e5f2be2869"
      },
      "outputs": [
        {
          "data": {
            "text/html": [
              "<div>\n",
              "<style scoped>\n",
              "    .dataframe tbody tr th:only-of-type {\n",
              "        vertical-align: middle;\n",
              "    }\n",
              "\n",
              "    .dataframe tbody tr th {\n",
              "        vertical-align: top;\n",
              "    }\n",
              "\n",
              "    .dataframe thead th {\n",
              "        text-align: right;\n",
              "    }\n",
              "</style>\n",
              "<table border=\"1\" class=\"dataframe\">\n",
              "  <thead>\n",
              "    <tr style=\"text-align: right;\">\n",
              "      <th></th>\n",
              "      <th>Normalization</th>\n",
              "      <th>Max Depth</th>\n",
              "      <th>Splitter</th>\n",
              "      <th>Accuracy %</th>\n",
              "    </tr>\n",
              "  </thead>\n",
              "  <tbody>\n",
              "    <tr>\n",
              "      <th>0</th>\n",
              "      <td>No Preprocessing</td>\n",
              "      <td>5</td>\n",
              "      <td>best</td>\n",
              "      <td>0.891667</td>\n",
              "    </tr>\n",
              "    <tr>\n",
              "      <th>1</th>\n",
              "      <td>No Preprocessing</td>\n",
              "      <td>5</td>\n",
              "      <td>random</td>\n",
              "      <td>0.925000</td>\n",
              "    </tr>\n",
              "    <tr>\n",
              "      <th>2</th>\n",
              "      <td>No Preprocessing</td>\n",
              "      <td>7</td>\n",
              "      <td>best</td>\n",
              "      <td>0.883333</td>\n",
              "    </tr>\n",
              "    <tr>\n",
              "      <th>3</th>\n",
              "      <td>No Preprocessing</td>\n",
              "      <td>7</td>\n",
              "      <td>random</td>\n",
              "      <td>0.908333</td>\n",
              "    </tr>\n",
              "    <tr>\n",
              "      <th>4</th>\n",
              "      <td>No Preprocessing</td>\n",
              "      <td>9</td>\n",
              "      <td>best</td>\n",
              "      <td>0.850000</td>\n",
              "    </tr>\n",
              "    <tr>\n",
              "      <th>5</th>\n",
              "      <td>No Preprocessing</td>\n",
              "      <td>9</td>\n",
              "      <td>random</td>\n",
              "      <td>0.908333</td>\n",
              "    </tr>\n",
              "    <tr>\n",
              "      <th>6</th>\n",
              "      <td>Z-score</td>\n",
              "      <td>5</td>\n",
              "      <td>best</td>\n",
              "      <td>0.900000</td>\n",
              "    </tr>\n",
              "    <tr>\n",
              "      <th>7</th>\n",
              "      <td>Z-score</td>\n",
              "      <td>5</td>\n",
              "      <td>random</td>\n",
              "      <td>0.941667</td>\n",
              "    </tr>\n",
              "    <tr>\n",
              "      <th>8</th>\n",
              "      <td>Z-score</td>\n",
              "      <td>7</td>\n",
              "      <td>best</td>\n",
              "      <td>0.875000</td>\n",
              "    </tr>\n",
              "    <tr>\n",
              "      <th>9</th>\n",
              "      <td>Z-score</td>\n",
              "      <td>7</td>\n",
              "      <td>random</td>\n",
              "      <td>0.908333</td>\n",
              "    </tr>\n",
              "    <tr>\n",
              "      <th>10</th>\n",
              "      <td>Z-score</td>\n",
              "      <td>9</td>\n",
              "      <td>best</td>\n",
              "      <td>0.841667</td>\n",
              "    </tr>\n",
              "    <tr>\n",
              "      <th>11</th>\n",
              "      <td>Z-score</td>\n",
              "      <td>9</td>\n",
              "      <td>random</td>\n",
              "      <td>0.883333</td>\n",
              "    </tr>\n",
              "    <tr>\n",
              "      <th>12</th>\n",
              "      <td>Minmax</td>\n",
              "      <td>5</td>\n",
              "      <td>best</td>\n",
              "      <td>0.908333</td>\n",
              "    </tr>\n",
              "    <tr>\n",
              "      <th>13</th>\n",
              "      <td>Minmax</td>\n",
              "      <td>5</td>\n",
              "      <td>random</td>\n",
              "      <td>0.941667</td>\n",
              "    </tr>\n",
              "    <tr>\n",
              "      <th>14</th>\n",
              "      <td>Minmax</td>\n",
              "      <td>7</td>\n",
              "      <td>best</td>\n",
              "      <td>0.808333</td>\n",
              "    </tr>\n",
              "    <tr>\n",
              "      <th>15</th>\n",
              "      <td>Minmax</td>\n",
              "      <td>7</td>\n",
              "      <td>random</td>\n",
              "      <td>0.758333</td>\n",
              "    </tr>\n",
              "    <tr>\n",
              "      <th>16</th>\n",
              "      <td>Minmax</td>\n",
              "      <td>9</td>\n",
              "      <td>best</td>\n",
              "      <td>0.900000</td>\n",
              "    </tr>\n",
              "    <tr>\n",
              "      <th>17</th>\n",
              "      <td>Minmax</td>\n",
              "      <td>9</td>\n",
              "      <td>random</td>\n",
              "      <td>0.825000</td>\n",
              "    </tr>\n",
              "  </tbody>\n",
              "</table>\n",
              "</div>"
            ],
            "text/plain": [
              "       Normalization  Max Depth Splitter  Accuracy %\n",
              "0   No Preprocessing          5     best    0.891667\n",
              "1   No Preprocessing          5   random    0.925000\n",
              "2   No Preprocessing          7     best    0.883333\n",
              "3   No Preprocessing          7   random    0.908333\n",
              "4   No Preprocessing          9     best    0.850000\n",
              "5   No Preprocessing          9   random    0.908333\n",
              "6            Z-score          5     best    0.900000\n",
              "7            Z-score          5   random    0.941667\n",
              "8            Z-score          7     best    0.875000\n",
              "9            Z-score          7   random    0.908333\n",
              "10           Z-score          9     best    0.841667\n",
              "11           Z-score          9   random    0.883333\n",
              "12            Minmax          5     best    0.908333\n",
              "13            Minmax          5   random    0.941667\n",
              "14            Minmax          7     best    0.808333\n",
              "15            Minmax          7   random    0.758333\n",
              "16            Minmax          9     best    0.900000\n",
              "17            Minmax          9   random    0.825000"
            ]
          },
          "execution_count": 13,
          "metadata": {},
          "output_type": "execute_result"
        }
      ],
      "source": [
        "outputs = run_variations(X_train_preprocessed, X_test_preprocessed, y_train, y_test, depth_values=[5, 7, 9], splitter_values=['best', 'random'], preprocessing_labels=['No Preprocessing', 'Z-score', 'Minmax'])\n",
        "output_df = pd.DataFrame(outputs)\n",
        "\n",
        "output_df"
      ]
    },
    {
      "cell_type": "code",
      "execution_count": null,
      "metadata": {
        "id": "bIvDym8RPAlc"
      },
      "outputs": [],
      "source": []
    }
  ],
  "metadata": {
    "colab": {
      "provenance": []
    },
    "kernelspec": {
      "display_name": "Python 3",
      "name": "python3"
    },
    "language_info": {
      "codemirror_mode": {
        "name": "ipython",
        "version": 3
      },
      "file_extension": ".py",
      "mimetype": "text/x-python",
      "name": "python",
      "nbconvert_exporter": "python",
      "pygments_lexer": "ipython3",
      "version": "3.12.2"
    }
  },
  "nbformat": 4,
  "nbformat_minor": 0
}
